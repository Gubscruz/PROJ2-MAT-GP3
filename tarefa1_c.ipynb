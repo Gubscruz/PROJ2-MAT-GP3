{
 "cells": [
  {
   "cell_type": "code",
   "execution_count": 3,
   "metadata": {},
   "outputs": [],
   "source": [
    "import numpy as np"
   ]
  },
  {
   "cell_type": "code",
   "execution_count": 4,
   "metadata": {},
   "outputs": [],
   "source": [
    "def f(x,y):\n",
    "    return 3*x**2 + x*y + y**2 + 2*x + y\n",
    "\n",
    "# devolve a direção do vetor gradiente\n",
    "def gradient(x0,y0):\n",
    "    x = 6*x0+y0+2\n",
    "    y = x0+2*y0+1\n",
    "    return (x,y)\n",
    "\n",
    "# devolve o proximo ponto da descida do gradiente\n",
    "def gradient_step(x0,y0,alpha):\n",
    "    (x0g,y0g) = gradient(x0,y0)\n",
    "    x = x0 - alpha*x0g\n",
    "    y = y0 - alpha*y0g\n",
    "    acc = abs(x-x0), abs(y-y0)\n",
    "    return (x,y,acc)\n",
    "\n",
    "# devolve o ponto de mínimo local\n",
    "def gradient_descent(x0,y0,accuracy,alpha):\n",
    "    (x,y,acc) = gradient_step(x0,y0,alpha)\n",
    "    while acc[0] > accuracy or acc[1] > accuracy:\n",
    "        (x,y,acc) = gradient_step(x,y,alpha)\n",
    "    return (x,y)"
   ]
  },
  {
   "cell_type": "code",
   "execution_count": 5,
   "metadata": {},
   "outputs": [
    {
     "name": "stdout",
     "output_type": "stream",
     "text": [
      "Ponto de mínimo local: (-0.2727380602506579,-0.3635906669539951)\n",
      "Ponto de mínimo local: (-0.2727321473869521,-0.3636157142465947)\n",
      "Ponto de mínimo local: (-0.27273029004306565,-0.36362358208157175)\n",
      "Ponto de mínimo local: (-0.27273189907161177,-0.363637455768115)\n",
      "Ponto de mínimo local: (nan,nan)\n"
     ]
    }
   ],
   "source": [
    "alpha = 0.1\n",
    "accuracy = 1e-5\n",
    "(x0,y0) = (0,0)\n",
    "\n",
    "(x,y) = gradient_descent(x0,y0,accuracy,alpha)\n",
    "print(\"Ponto de mínimo local: ({},{})\".format(x,y))\n",
    "\n",
    "alpha = 0.15\n",
    "(x,y) = gradient_descent(x0,y0,accuracy,alpha)\n",
    "print(\"Ponto de mínimo local: ({},{})\".format(x,y))\n",
    "\n",
    "alpha = 0.2\n",
    "(x,y) = gradient_descent(x0,y0,accuracy,alpha)\n",
    "print(\"Ponto de mínimo local: ({},{})\".format(x,y))\n",
    "\n",
    "alpha = 0.3\n",
    "(x,y) = gradient_descent(x0,y0,accuracy,alpha)\n",
    "print(\"Ponto de mínimo local: ({},{})\".format(x,y))\n",
    "\n",
    "alpha = 0.5\n",
    "(x,y) = gradient_descent(x0,y0,accuracy,alpha)\n",
    "print(\"Ponto de mínimo local: ({},{})\".format(x,y))"
   ]
  },
  {
   "cell_type": "code",
   "execution_count": 6,
   "metadata": {},
   "outputs": [
    {
     "name": "stdout",
     "output_type": "stream",
     "text": [
      "Ponto de mínimo local: (-0.2727321473869521,-0.3636157142465947)\n"
     ]
    }
   ],
   "source": [
    "alpha = 0.15\n",
    "(x,y) = gradient_descent(x0,y0,accuracy,alpha)\n",
    "print(\"Ponto de mínimo local: ({},{})\".format(x,y))"
   ]
  },
  {
   "cell_type": "code",
   "execution_count": 7,
   "metadata": {},
   "outputs": [
    {
     "name": "stdout",
     "output_type": "stream",
     "text": [
      "Ponto de mínimo local: (-0.27273029004306565,-0.36362358208157175)\n"
     ]
    }
   ],
   "source": [
    "alpha = 0.2\n",
    "(x,y) = gradient_descent(x0,y0,accuracy,alpha)\n",
    "print(\"Ponto de mínimo local: ({},{})\".format(x,y))"
   ]
  },
  {
   "cell_type": "code",
   "execution_count": 8,
   "metadata": {},
   "outputs": [
    {
     "name": "stdout",
     "output_type": "stream",
     "text": [
      "Ponto de mínimo local: (-0.27273189907161177,-0.363637455768115)\n"
     ]
    }
   ],
   "source": [
    "alpha = 0.3\n",
    "(x,y) = gradient_descent(x0,y0,accuracy,alpha)\n",
    "print(\"Ponto de mínimo local: ({},{})\".format(x,y))"
   ]
  },
  {
   "cell_type": "code",
   "execution_count": 9,
   "metadata": {},
   "outputs": [
    {
     "name": "stdout",
     "output_type": "stream",
     "text": [
      "Ponto de mínimo local: (nan,nan)\n"
     ]
    }
   ],
   "source": [
    "alpha = 0.5\n",
    "(x,y) = gradient_descent(x0,y0,accuracy,alpha)\n",
    "print(\"Ponto de mínimo local: ({},{})\".format(x,y))"
   ]
  }
 ],
 "metadata": {
  "kernelspec": {
   "display_name": "Python 3",
   "language": "python",
   "name": "python3"
  },
  "language_info": {
   "codemirror_mode": {
    "name": "ipython",
    "version": 3
   },
   "file_extension": ".py",
   "mimetype": "text/x-python",
   "name": "python",
   "nbconvert_exporter": "python",
   "pygments_lexer": "ipython3",
   "version": "3.11.5"
  }
 },
 "nbformat": 4,
 "nbformat_minor": 2
}
